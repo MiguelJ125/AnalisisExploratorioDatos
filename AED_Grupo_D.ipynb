{
  "nbformat": 4,
  "nbformat_minor": 0,
  "metadata": {
    "colab": {
      "name": "AED_Grupo_D.ipynb",
      "provenance": [],
      "authorship_tag": "ABX9TyPHQe5Gx43c+Fx/chvinSWK",
      "include_colab_link": true
    },
    "kernelspec": {
      "name": "python3",
      "display_name": "Python 3"
    },
    "language_info": {
      "name": "python"
    }
  },
  "cells": [
    {
      "cell_type": "markdown",
      "metadata": {
        "id": "view-in-github",
        "colab_type": "text"
      },
      "source": [
        "<a href=\"https://colab.research.google.com/github/MiguelJ125/AnalisisExploratorioDatos/blob/main/AED_Grupo_D.ipynb\" target=\"_parent\"><img src=\"https://colab.research.google.com/assets/colab-badge.svg\" alt=\"Open In Colab\"/></a>"
      ]
    },
    {
      "cell_type": "markdown",
      "metadata": {
        "id": "qSow9d-AkAmf"
      },
      "source": [
        "AED - Para esto se trabajará con el archivo sube2020.csv en el cual están registradas todas las\n",
        "transacciones realizadas durante el año 2020."
      ]
    },
    {
      "cell_type": "code",
      "metadata": {
        "id": "x17GjtvFjsLz"
      },
      "source": [
        ""
      ],
      "execution_count": null,
      "outputs": []
    }
  ]
}