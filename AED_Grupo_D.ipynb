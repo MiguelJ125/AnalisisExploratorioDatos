{
  "nbformat": 4,
  "nbformat_minor": 0,
  "metadata": {
    "colab": {
      "name": "AED_Grupo_D.ipynb",
      "provenance": [],
      "authorship_tag": "ABX9TyOXklyqsNeB167RLslAKZAR",
      "include_colab_link": true
    },
    "kernelspec": {
      "name": "python3",
      "display_name": "Python 3"
    },
    "language_info": {
      "name": "python"
    }
  },
  "cells": [
    {
      "cell_type": "markdown",
      "metadata": {
        "id": "view-in-github",
        "colab_type": "text"
      },
      "source": [
        "<a href=\"https://colab.research.google.com/github/MiguelJ125/AnalisisExploratorioDatos/blob/main/AED_Grupo_D.ipynb\" target=\"_parent\"><img src=\"https://colab.research.google.com/assets/colab-badge.svg\" alt=\"Open In Colab\"/></a>"
      ]
    },
    {
      "cell_type": "markdown",
      "metadata": {
        "id": "qSow9d-AkAmf"
      },
      "source": [
        "AED - Para esto se trabajará con el archivo sube2020.csv en el cual están registradas todas las\n",
        "transacciones realizadas durante el año 2020."
      ]
    },
    {
      "cell_type": "code",
      "metadata": {
        "colab": {
          "base_uri": "https://localhost:8080/",
          "height": 563
        },
        "id": "x17GjtvFjsLz",
        "outputId": "998008fe-4b99-48ff-b44a-d01032738144"
      },
      "source": [
        "import pandas as pd\n",
        "import numpy as np\n",
        "import matplotlib.pyplot as plt\n",
        "import statsmodels.api as sm\n",
        "\n",
        "sube = pd.read_csv('/content/sube2020.csv')\n",
        "sube"
      ],
      "execution_count": 3,
      "outputs": [
        {
          "output_type": "execute_result",
          "data": {
            "text/html": [
              "<div>\n",
              "<style scoped>\n",
              "    .dataframe tbody tr th:only-of-type {\n",
              "        vertical-align: middle;\n",
              "    }\n",
              "\n",
              "    .dataframe tbody tr th {\n",
              "        vertical-align: top;\n",
              "    }\n",
              "\n",
              "    .dataframe thead th {\n",
              "        text-align: right;\n",
              "    }\n",
              "</style>\n",
              "<table border=\"1\" class=\"dataframe\">\n",
              "  <thead>\n",
              "    <tr style=\"text-align: right;\">\n",
              "      <th></th>\n",
              "      <th>DIA_TRANSPORTE</th>\n",
              "      <th>NOMBRE_EMPRESA</th>\n",
              "      <th>LINEA</th>\n",
              "      <th>AMBA</th>\n",
              "      <th>TIPO_TRANSPORTE</th>\n",
              "      <th>JURISDICCION</th>\n",
              "      <th>PROVINCIA</th>\n",
              "      <th>MUNICIPIO</th>\n",
              "      <th>CANTIDAD</th>\n",
              "      <th>DATO_PRELIMINAR</th>\n",
              "    </tr>\n",
              "  </thead>\n",
              "  <tbody>\n",
              "    <tr>\n",
              "      <th>0</th>\n",
              "      <td>2020-01-01</td>\n",
              "      <td>EMPRESA BATAN S.A.</td>\n",
              "      <td>BS_AS_LINEA 715M</td>\n",
              "      <td>NO</td>\n",
              "      <td>COLECTIVO</td>\n",
              "      <td>MUNICIPAL</td>\n",
              "      <td>BUENOS AIRES</td>\n",
              "      <td>GENERAL PUEYRREDON</td>\n",
              "      <td>2154</td>\n",
              "      <td>NO</td>\n",
              "    </tr>\n",
              "    <tr>\n",
              "      <th>1</th>\n",
              "      <td>2020-01-01</td>\n",
              "      <td>COMPAÑIA  DE TRANSPORTE VECINAL S.A.</td>\n",
              "      <td>BS_AS_LINEA_326</td>\n",
              "      <td>SI</td>\n",
              "      <td>COLECTIVO</td>\n",
              "      <td>PROVINCIAL</td>\n",
              "      <td>BUENOS AIRES</td>\n",
              "      <td>SN</td>\n",
              "      <td>1492</td>\n",
              "      <td>NO</td>\n",
              "    </tr>\n",
              "    <tr>\n",
              "      <th>2</th>\n",
              "      <td>2020-01-01</td>\n",
              "      <td>EMPRESA DE TRANSPORTE PERALTA RAMOS SACI</td>\n",
              "      <td>BS_AS_LINEA_512</td>\n",
              "      <td>NO</td>\n",
              "      <td>COLECTIVO</td>\n",
              "      <td>MUNICIPAL</td>\n",
              "      <td>BUENOS AIRES</td>\n",
              "      <td>GENERAL PUEYRREDON</td>\n",
              "      <td>1889</td>\n",
              "      <td>NO</td>\n",
              "    </tr>\n",
              "    <tr>\n",
              "      <th>3</th>\n",
              "      <td>2020-01-01</td>\n",
              "      <td>AUTOBUSES BUENOS AIRES S.R.L. – TRANSPORTE LAR...</td>\n",
              "      <td>BS_AS_LINEA_514</td>\n",
              "      <td>SI</td>\n",
              "      <td>COLECTIVO</td>\n",
              "      <td>MUNICIPAL</td>\n",
              "      <td>BUENOS AIRES</td>\n",
              "      <td>ALMIRANTE BROWN</td>\n",
              "      <td>4669</td>\n",
              "      <td>NO</td>\n",
              "    </tr>\n",
              "    <tr>\n",
              "      <th>4</th>\n",
              "      <td>2020-01-01</td>\n",
              "      <td>EL URBANO SRL</td>\n",
              "      <td>BS_AS_LINEA_522</td>\n",
              "      <td>SI</td>\n",
              "      <td>COLECTIVO</td>\n",
              "      <td>MUNICIPAL</td>\n",
              "      <td>BUENOS AIRES</td>\n",
              "      <td>LANUS</td>\n",
              "      <td>187</td>\n",
              "      <td>NO</td>\n",
              "    </tr>\n",
              "    <tr>\n",
              "      <th>...</th>\n",
              "      <td>...</td>\n",
              "      <td>...</td>\n",
              "      <td>...</td>\n",
              "      <td>...</td>\n",
              "      <td>...</td>\n",
              "      <td>...</td>\n",
              "      <td>...</td>\n",
              "      <td>...</td>\n",
              "      <td>...</td>\n",
              "      <td>...</td>\n",
              "    </tr>\n",
              "    <tr>\n",
              "      <th>356623</th>\n",
              "      <td>2020-12-31</td>\n",
              "      <td>EMPRESA CEFERINO SOCIEDAD ANONIMA</td>\n",
              "      <td>Línea G</td>\n",
              "      <td>NO</td>\n",
              "      <td>COLECTIVO</td>\n",
              "      <td>MUNICIPAL</td>\n",
              "      <td>RÍO NEGRO</td>\n",
              "      <td>VIEDMA</td>\n",
              "      <td>55</td>\n",
              "      <td>NO</td>\n",
              "    </tr>\n",
              "    <tr>\n",
              "      <th>356624</th>\n",
              "      <td>2020-12-31</td>\n",
              "      <td>UNION PLATENSE SRL</td>\n",
              "      <td>NORTE MUNICIPAL</td>\n",
              "      <td>SI</td>\n",
              "      <td>COLECTIVO</td>\n",
              "      <td>MUNICIPAL</td>\n",
              "      <td>BUENOS AIRES</td>\n",
              "      <td>LA PLATA</td>\n",
              "      <td>3245</td>\n",
              "      <td>NO</td>\n",
              "    </tr>\n",
              "    <tr>\n",
              "      <th>356625</th>\n",
              "      <td>2020-12-31</td>\n",
              "      <td>A T A C O NORTE S A C I</td>\n",
              "      <td>RES_PUERTO_TIROL_Y VIC</td>\n",
              "      <td>NO</td>\n",
              "      <td>COLECTIVO</td>\n",
              "      <td>PROVINCIAL</td>\n",
              "      <td>CHACO</td>\n",
              "      <td>SN</td>\n",
              "      <td>522</td>\n",
              "      <td>NO</td>\n",
              "    </tr>\n",
              "    <tr>\n",
              "      <th>356626</th>\n",
              "      <td>2020-12-31</td>\n",
              "      <td>ETACER SRL</td>\n",
              "      <td>STAFE_SANTA FE_LINEA_907</td>\n",
              "      <td>NO</td>\n",
              "      <td>COLECTIVO</td>\n",
              "      <td>NACIONAL</td>\n",
              "      <td>JN</td>\n",
              "      <td>SD</td>\n",
              "      <td>362</td>\n",
              "      <td>NO</td>\n",
              "    </tr>\n",
              "    <tr>\n",
              "      <th>356627</th>\n",
              "      <td>2020-12-31</td>\n",
              "      <td>COOP.DE PROV.DE O.Y S.P.Y C.LAS TONINAS</td>\n",
              "      <td>URBANA DE TRANSPORTE</td>\n",
              "      <td>NO</td>\n",
              "      <td>COLECTIVO</td>\n",
              "      <td>MUNICIPAL</td>\n",
              "      <td>BUENOS AIRES</td>\n",
              "      <td>URBANO DE LA COSTA</td>\n",
              "      <td>986</td>\n",
              "      <td>NO</td>\n",
              "    </tr>\n",
              "  </tbody>\n",
              "</table>\n",
              "<p>356628 rows × 10 columns</p>\n",
              "</div>"
            ],
            "text/plain": [
              "       DIA_TRANSPORTE  ... DATO_PRELIMINAR\n",
              "0          2020-01-01  ...              NO\n",
              "1          2020-01-01  ...              NO\n",
              "2          2020-01-01  ...              NO\n",
              "3          2020-01-01  ...              NO\n",
              "4          2020-01-01  ...              NO\n",
              "...               ...  ...             ...\n",
              "356623     2020-12-31  ...              NO\n",
              "356624     2020-12-31  ...              NO\n",
              "356625     2020-12-31  ...              NO\n",
              "356626     2020-12-31  ...              NO\n",
              "356627     2020-12-31  ...              NO\n",
              "\n",
              "[356628 rows x 10 columns]"
            ]
          },
          "metadata": {},
          "execution_count": 3
        }
      ]
    },
    {
      "cell_type": "code",
      "metadata": {
        "colab": {
          "base_uri": "https://localhost:8080/"
        },
        "id": "L-kogYYEmUls",
        "outputId": "2297849b-c093-4e57-d211-be59900c75e4"
      },
      "source": [
        "sube.info()"
      ],
      "execution_count": 4,
      "outputs": [
        {
          "output_type": "stream",
          "name": "stdout",
          "text": [
            "<class 'pandas.core.frame.DataFrame'>\n",
            "RangeIndex: 356628 entries, 0 to 356627\n",
            "Data columns (total 10 columns):\n",
            " #   Column           Non-Null Count   Dtype \n",
            "---  ------           --------------   ----- \n",
            " 0   DIA_TRANSPORTE   356628 non-null  object\n",
            " 1   NOMBRE_EMPRESA   356628 non-null  object\n",
            " 2   LINEA            356628 non-null  object\n",
            " 3   AMBA             356628 non-null  object\n",
            " 4   TIPO_TRANSPORTE  356628 non-null  object\n",
            " 5   JURISDICCION     354067 non-null  object\n",
            " 6   PROVINCIA        354067 non-null  object\n",
            " 7   MUNICIPIO        354067 non-null  object\n",
            " 8   CANTIDAD         356628 non-null  int64 \n",
            " 9   DATO_PRELIMINAR  356628 non-null  object\n",
            "dtypes: int64(1), object(9)\n",
            "memory usage: 27.2+ MB\n"
          ]
        }
      ]
    },
    {
      "cell_type": "code",
      "metadata": {
        "id": "kA12fbmrmYEL"
      },
      "source": [
        ""
      ],
      "execution_count": null,
      "outputs": []
    }
  ]
}